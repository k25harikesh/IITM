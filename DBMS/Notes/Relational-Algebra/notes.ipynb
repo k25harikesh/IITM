{
 "cells": [
  {
   "cell_type": "markdown",
   "metadata": {},
   "source": [
    "### Relational Algebra"
   ]
  },
  {
   "cell_type": "markdown",
   "metadata": {},
   "source": [
    "Relational Algebra is a procedural query language that operates on relations,\n",
    "\n",
    "which are sets of tuples. It provides a foundation for SQL and other query languages."
   ]
  },
  {
   "cell_type": "markdown",
   "metadata": {},
   "source": [
    "---\n",
    "\n",
    "### Relational Algebra Operations\n",
    "\n",
    "#### Selection (σ)\n",
    "Filters rows based on a specified condition.\n",
    "- **Syntax:** `σ_condition(Relation)`\n",
    "- **Example:** `σ_Age > 20(Students)`\n",
    "\n",
    "#### Projection (π)\n",
    "Extracts specific columns from a relation.\n",
    "- **Syntax:** `π_column1, column2, ...(Relation)`\n",
    "- **Example:** `π_Name, Major(Students)`\n",
    "\n",
    "#### Union (∪)\n",
    "Combines the tuples of two relations and eliminates duplicates.\n",
    "- **Syntax:** `Relation1 ∪ Relation2`\n",
    "- **Example:** `Students_2023 ∪ Students_2024`\n",
    "\n",
    "#### Set Difference (−)\n",
    "Returns the tuples that are in the first relation but not in the second.\n",
    "- **Syntax:** `Relation1 − Relation2`\n",
    "- **Example:** `Students − GraduatedStudents`\n",
    "\n",
    "#### Cartesian Product (×)\n",
    "Combines each tuple of the first relation with every tuple of the second relation.\n",
    "- **Syntax:** `Relation1 × Relation2`\n",
    "- **Example:** `Students × Courses`\n",
    "\n",
    "#### Rename (ρ)\n",
    "Renames the output relation.\n",
    "- **Syntax:** `ρ_newName(Relation)`\n",
    "- **Example:** `ρ_EnrolledStudents(Students)`\n",
    "\n",
    "### Additional Operations\n",
    "\n",
    "#### Intersection (∩)\n",
    "Returns the tuples that are common to both relations.\n",
    "- **Syntax:** `Relation1 ∩ Relation2`\n",
    "- **Example:** `EnrolledStudents ∩ HonorsStudents`\n",
    "\n",
    "#### Join (⨝)\n",
    "Combines related tuples from two relations based on a condition.\n",
    "- **Syntax:** `Relation1 ⨝_condition Relation2`\n",
    "- **Example:** `Students ⨝ Students.StudentID = Enrollments.StudentID Enrollments`\n",
    "\n",
    "#### Division (÷)\n",
    "Used when you want to find a relation that is paired with all tuples of another relation.\n",
    "- **Syntax:** `Relation1 ÷ Relation2`\n",
    "- **Example:** `StudentsWhoTookAllCourses ÷ RequiredCourses`"
   ]
  }
 ],
 "metadata": {
  "kernelspec": {
   "display_name": "Python 3",
   "language": "python",
   "name": "python3"
  },
  "language_info": {
   "codemirror_mode": {
    "name": "ipython",
    "version": 3
   },
   "file_extension": ".py",
   "mimetype": "text/x-python",
   "name": "python",
   "nbconvert_exporter": "python",
   "pygments_lexer": "ipython3",
   "version": "3.12.2"
  }
 },
 "nbformat": 4,
 "nbformat_minor": 2
}
