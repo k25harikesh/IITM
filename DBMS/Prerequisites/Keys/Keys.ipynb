{
 "cells": [
  {
   "cell_type": "markdown",
   "metadata": {},
   "source": [
    "---\n",
    "\n",
    "### Key Types in Database Design :- \n",
    "\n",
    "- **Primary Key**: \n",
    "  - Uniquely identifies each row.\n",
    "  - Only one per table.\n",
    "\n",
    "- **Foreign Key**: \n",
    "  - References the primary key in another table to create relationships.\n",
    "\n",
    "- **Candidate Key**: \n",
    "  - Potential unique identifiers.\n",
    "  - Can have multiple per table.\n",
    "\n",
    "- **Composite Key**: \n",
    "  - Primary key consisting of multiple columns.\n",
    "\n",
    "- **Super Key**: \n",
    "  - Any set of columns that uniquely identify a row.\n",
    "\n",
    "- **Alternate Key**: \n",
    "  - Candidate key not chosen as the primary key.\n",
    "\n",
    "- **Secondary Key**: \n",
    "  - Used for searching, not unique.\n",
    "\n",
    "- **Unique Key**: \n",
    "  - Ensures column values are unique.\n",
    "  - Multiple allowed per table."
   ]
  },
  {
   "cell_type": "markdown",
   "metadata": {},
   "source": [
    "- **Surrogate Key (Synthetic Key)**:\n",
    "\n",
    "  - An artificially created key, usually an integer, added to a table to serve as the primary key.\n",
    "  - Not derived from application data.\n",
    "  - Unique identifier for each row.\n",
    "  - Typically auto-incremented."
   ]
  }
 ],
 "metadata": {
  "language_info": {
   "name": "python"
  }
 },
 "nbformat": 4,
 "nbformat_minor": 2
}
